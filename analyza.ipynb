{
 "cells": [
  {
   "cell_type": "code",
   "execution_count": 52,
   "metadata": {
    "collapsed": true
   },
   "outputs": [],
   "source": [
    "import pandas as pd"
   ]
  },
  {
   "cell_type": "code",
   "execution_count": 53,
   "metadata": {
    "collapsed": false
   },
   "outputs": [],
   "source": [
    "xl = pd.ExcelFile('data/Monthly Data Jan-June 2015 Ext.xls')"
   ]
  },
  {
   "cell_type": "code",
   "execution_count": 54,
   "metadata": {
    "collapsed": false
   },
   "outputs": [],
   "source": [
    "out = {}\n",
    "\n",
    "staty = {'ALB': 'Albánie','AFG': 'Afghánistán', 'CHI': 'Čína','ERT': 'Eritreia','IRQ': 'Irák','PAK': 'Pakistán','SOM': 'Somálsko','SRB': 'Srbsko','SYR': 'Sýrie','UKR': 'Ukrajina'}\n",
    "\n",
    "for sheet in xl.sheet_names:\n",
    "    if (len(sheet) != 3):\n",
    "        continue\n",
    "    temp = xl.parse(sheet, skiprows=range(0,8), parse_cols=[1, 14], skip_footer=15)\n",
    "    for i, row in temp.iterrows():\n",
    "        if row[0] not in out:\n",
    "            out[row[0]] = {}\n",
    "        out[row[0]][staty[sheet]] = row[1]"
   ]
  },
  {
   "cell_type": "code",
   "execution_count": 55,
   "metadata": {
    "collapsed": false
   },
   "outputs": [],
   "source": [
    "outFrame = pd.DataFrame.from_dict(out, orient='index')"
   ]
  },
  {
   "cell_type": "code",
   "execution_count": 56,
   "metadata": {
    "collapsed": false
   },
   "outputs": [],
   "source": [
    "outFrame.replace(to_replace='*', value=1, inplace=True)"
   ]
  },
  {
   "cell_type": "code",
   "execution_count": 57,
   "metadata": {
    "collapsed": false
   },
   "outputs": [],
   "source": [
    "outFrame.to_excel('data/azyly_2015.xlsx')"
   ]
  }
 ],
 "metadata": {
  "kernelspec": {
   "display_name": "Python 3",
   "language": "python",
   "name": "python3"
  },
  "language_info": {
   "codemirror_mode": {
    "name": "ipython",
    "version": 3
   },
   "file_extension": ".py",
   "mimetype": "text/x-python",
   "name": "python",
   "nbconvert_exporter": "python",
   "pygments_lexer": "ipython3",
   "version": "3.4.3"
  }
 },
 "nbformat": 4,
 "nbformat_minor": 0
}
