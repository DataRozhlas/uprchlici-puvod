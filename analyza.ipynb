{
 "cells": [
  {
   "cell_type": "code",
   "execution_count": 8,
   "metadata": {
    "collapsed": true
   },
   "outputs": [],
   "source": [
    "import pandas as pd\n",
    "import numpy as np"
   ]
  },
  {
   "cell_type": "code",
   "execution_count": 9,
   "metadata": {
    "collapsed": false
   },
   "outputs": [],
   "source": [
    "xl = pd.ExcelFile('data/Monthly Data Jan-August 2015 Ext.xls')"
   ]
  },
  {
   "cell_type": "code",
   "execution_count": 10,
   "metadata": {
    "collapsed": true
   },
   "outputs": [],
   "source": [
    "staty = {'ALB': 'Albánie','AFG': 'Afghánistán', 'CHI': 'Čína','ERT': 'Eritreia','IRQ': 'Irák','PAK': 'Pakistán','SOM': 'Somálsko','SRB': 'Srbsko','SYR': 'Sýrie','UKR': 'Ukrajina', 'Albania': 'Albánie','Austria': 'Rakousko','Belgium': 'Belgie','Bosnia and H.': 'Bosna a H.','Bulgaria': 'Bulharsko','Croatia': 'Chorvatsko','Cyprus': 'Kypr','Czech Rep.': 'Česká rep.','Denmark': 'Dánsko','Estonia': 'Estonsko','Finland': 'Finsko','France': 'Francie','Germany': 'Německo','Greece': 'Řecko','Hungary': 'Maďarsko','Iceland': 'Island','Ireland': 'Irsko','Italy': 'Itálie','Latvia': 'Lotyšsko','Liechtenstein': 'Lichtenštejnsko','Lithuania': 'Litva','Luxembourg': 'Lucembursko','Malta': 'Malta','Montenegro': 'Černá Hora','Netherlands': 'Nizozemsko','Norway': 'Norsko','Poland': 'Polsko','Portugal': 'Portugalsko','Romania': 'Rumunsko','Serbia and Kosovo (S/RES/1244 (1999))': 'Srbsko a Kosovo','Slovakia': 'Slovensko','Slovenia': 'Slovinsko','Spain': 'Španělsko','Sweden': 'Švédsko','Switzerland': 'Švýcarsko','The former Yugoslav Republic of Macedonia': 'Makedonie','Turkey': 'Turecko','United Kingdom': 'Spojené království','Canada': 'Kanada','USA (DHS)': 'USA','Australia': 'Austrálie','New Zealand': 'Nový Zéland','Japan': 'Japonsko','Rep. of Korea': 'Jižní Korea'}\n",
    "omit = [' - of which Kosovo (S/RES/1244 (1999))', 'USA (EOIR)']"
   ]
  },
  {
   "cell_type": "raw",
   "metadata": {
    "collapsed": false
   },
   "source": [
    "#old souhr verze\n",
    "out = {}\n",
    "\n",
    "for sheet in xl.sheet_names:\n",
    "    if (len(sheet) != 3):\n",
    "        continue\n",
    "    temp = xl.parse(sheet, skiprows=range(0,8), parse_cols=[1, 14], skip_footer=15)\n",
    "    for i, row in temp.iterrows():\n",
    "        if row[0] not in out:\n",
    "            out[row[0]] = {}\n",
    "        out[row[0]][staty[sheet]] = row[1]"
   ]
  },
  {
   "cell_type": "code",
   "execution_count": 11,
   "metadata": {
    "collapsed": true
   },
   "outputs": [],
   "source": [
    "#po mesicich, struktura: odkud,kam,mesic-pocet\n",
    "out = {}\n",
    "count = 0\n",
    "\n",
    "for sheet in xl.sheet_names:\n",
    "    if (len(sheet) != 3):\n",
    "        continue\n",
    "    temp = xl.parse(sheet, skiprows=range(0,8), parse_cols=range(1,9), skip_footer=20)\n",
    "    for i, row in temp.iterrows():\n",
    "        if (row[0] in omit):\n",
    "            continue\n",
    "        count += 1\n",
    "        out[count] = {'from': staty[sheet], 'to': staty[row[0]], '01-2015': row[1], '02-2015': row[2], '03-2015': row[3], '04-2015': row[4], '05-2015': row[5], '06-2015': row[6], '07-2015': row[7]}"
   ]
  },
  {
   "cell_type": "code",
   "execution_count": 12,
   "metadata": {
    "collapsed": false
   },
   "outputs": [],
   "source": [
    "outFrame = pd.DataFrame.from_dict(out, orient='index')"
   ]
  },
  {
   "cell_type": "code",
   "execution_count": 13,
   "metadata": {
    "collapsed": false
   },
   "outputs": [],
   "source": [
    "outFrame = outFrame.replace(to_replace=['*'], value=1).sort(axis=1)"
   ]
  },
  {
   "cell_type": "code",
   "execution_count": 14,
   "metadata": {
    "collapsed": false
   },
   "outputs": [],
   "source": [
    "outFrame.to_excel('data/azyly_2015.xlsx', index=False)"
   ]
  }
 ],
 "metadata": {
  "kernelspec": {
   "display_name": "Python 3",
   "language": "python",
   "name": "python3"
  },
  "language_info": {
   "codemirror_mode": {
    "name": "ipython",
    "version": 3
   },
   "file_extension": ".py",
   "mimetype": "text/x-python",
   "name": "python",
   "nbconvert_exporter": "python",
   "pygments_lexer": "ipython3",
   "version": "3.4.3"
  }
 },
 "nbformat": 4,
 "nbformat_minor": 0
}
